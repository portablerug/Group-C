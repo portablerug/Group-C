{
 "cells": [
  {
   "cell_type": "code",
   "execution_count": 122,
   "id": "34850d6e-a034-491f-8ca8-2531d6f9d0b7",
   "metadata": {},
   "outputs": [],
   "source": [
    "import numpy as np\n",
    "import datetime\n",
    "from datetime import datetime"
   ]
  },
  {
   "cell_type": "code",
   "execution_count": 126,
   "id": "725d111a-8ecf-43b7-b9df-040dc10dccdd",
   "metadata": {},
   "outputs": [
    {
     "name": "stdout",
     "output_type": "stream",
     "text": [
      "group-data.txt\n",
      "[8.12, 15.62, 8.92, 16.42, 9.75, 17.23, 10.58, 18.0, 11.47, 18.77, 12.37, 19.52, 13.4, 20.27, 3.37, 21.02, 4.12, 21.77, 4.83, 11.97, 5.52, 12.93, 6.13, 13.75, 6.78, 14.42, 7.37, 15.0, 7.98, 15.57, 8.57, 16.13, 9.17, 16.68, 9.75, 17.2, 10.35, 17.75, 10.95, 18.25, 11.63, 18.8, 12.42, 19.33, 2.37, 19.87, 2.97, 20.5, 3.62, 10.73, 4.38, 11.92, 5.25, 12.95, 6.15, 13.83, 7.08, 14.65, 7.97, 15.45, 8.83, 16.17, 9.67, 16.87, 10.5, 17.57, 11.32, 18.2, 12.17, 18.82, 1.53, 19.4, 2.22, 20.0, 2.9, 9.9, 3.65, 11.25, 4.48, 12.37, 5.35, 13.23]\n"
     ]
    }
   ],
   "source": [
    "fname = 'group-data.txt'\n",
    "f = open(fname, 'r')\n",
    "print(f.name)\n",
    "group_data = f.readlines()\n",
    "result = []\n",
    "for x in group_data:\n",
    "        result.append(x.split(' ')[1])\n",
    "tide_times = result\n",
    "hours_list = []    #defines the original list of hours\n",
    "for time in tide_times:\n",
    "    datetime_obj = datetime.strptime(time, \"%H:%M\")  #parse time define the hour and the minute\n",
    "    hours = datetime_obj.hour + datetime_obj.minute / 60     #add the minutes / 60 to the hours to get total hours\n",
    "    hours_list.append(hours)  #add values to the list\n",
    "    rounded_hours = [round(hours,2)for hours in hours_list]\n",
    "print(rounded_hours)\n",
    "f.close()"
   ]
  },
  {
   "cell_type": "code",
   "execution_count": 124,
   "id": "d0c63915-a7ef-43a1-b435-34cba6bcd049",
   "metadata": {},
   "outputs": [],
   "source": [
    "import matplotlib.pyplot as plt\n",
    "from matplotlib.ticker import MultipleLocator "
   ]
  },
  {
   "cell_type": "code",
   "execution_count": 127,
   "id": "a448293a-cbfb-4ab3-86ca-53e11bae2afa",
   "metadata": {},
   "outputs": [
    {
     "name": "stdout",
     "output_type": "stream",
     "text": [
      "group-data.txt\n",
      "['1', '1', '2', '2', '3', '3', '4', '4', '5', '5', '6', '6', '7', '7', '8', '8', '9', '9', '10', '10', '11', '11', '12', '12', '13', '13', '14', '14', '15', '15', '16', '16', '17', '17', '18', '18', '19', '19', '20', '20', '21', '21', '22', '22', '23', '23', '24', '24', '25', '25', '26', '26', '27', '27', '28', '28', '29', '29', '30', '30', '31', '31', '32', '32', '33', '33', '34', '34', '35', '35', '36', '36', '37', '37', '38', '38', '39', '39', '40', '40', '41', '41']\n",
      "['6.57\\n', '-0.39\\n', '5.38\\n', '-1.74\\n', '5.26\\n', '-1.36\\n', '4.13\\n', '-1.15\\n', '3.48\\n', '-1.61\\n', '2.62\\n', '0.05\\n', '1.83\\n', '1.01\\n', '', '0.73\\n', '4.54\\n', '2.17\\n', '3.76\\n', '2.88\\n', '3.90\\n', '1.92\\n', '4.73\\n', '1.74\\n', '5.66\\n', '0.79\\n', '5.33\\n', '-0.04\\n', '5.23\\n', '-1.12\\n', '6.67\\n', '-0.61\\n', '4.74\\n', '-0.93\\n', '4.69\\n', '-1.29\\n', '4.20\\n', '0.22\\n', '3.68\\n', '0.26\\n', '2.47\\n', '0.36\\n', '2.59\\n', '0.99\\n', '4.10\\n', '1.87\\n', '3.17\\n', '1.60\\n', '3.71\\n', '3.10\\n', '4.04\\n', '2.49\\n', '4.07\\n', '2.18\\n', '5.93\\n', '0.70\\n', '6.89\\n', '0.21\\n', '6.72\\n', '0.22\\n', '6.77\\n', '-1.68\\n', '5.77\\n', '-1.32\\n', '4.35\\n', '-0.73\\n', '4.23\\n', '-0.38\\n', '2.24\\n', '-0.61\\n', '3.45\\n', '-0.46\\n', '4.13\\n', '1.21\\n', '3.34\\n', '2.58\\n', '3.32\\n', '3.26\\n', '5.21\\n', '2.39\\n', '4.83\\n', '2.41\\n']\n"
     ]
    }
   ],
   "source": [
    "fname = 'group-data.txt'\n",
    "f = open(fname, 'r')\n",
    "print(f.name)\n",
    "group_data = f.readlines()\n",
    "day = []\n",
    "height = []\n",
    "for x in group_data:\n",
    "        day.append(x.split(' ')[0])\n",
    "        height.append(x.split(' ')[2])\n",
    "x = day\n",
    "z = height\n",
    "print(x)\n",
    "print(z)\n",
    "f.close()"
   ]
  }
 ],
 "metadata": {
  "kernelspec": {
   "display_name": "Python 3 (ipykernel)",
   "language": "python",
   "name": "python3"
  },
  "language_info": {
   "codemirror_mode": {
    "name": "ipython",
    "version": 3
   },
   "file_extension": ".py",
   "mimetype": "text/x-python",
   "name": "python",
   "nbconvert_exporter": "python",
   "pygments_lexer": "ipython3",
   "version": "3.12.0"
  }
 },
 "nbformat": 4,
 "nbformat_minor": 5
}
